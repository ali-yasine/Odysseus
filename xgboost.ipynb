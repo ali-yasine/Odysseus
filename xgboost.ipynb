{
  "nbformat": 4,
  "nbformat_minor": 0,
  "metadata": {
    "colab": {
      "provenance": []
    },
    "kernelspec": {
      "name": "python3",
      "display_name": "Python 3"
    },
    "language_info": {
      "name": "python"
    },
    "accelerator": "GPU",
    "gpuClass": "standard"
  },
  "cells": [
    {
      "cell_type": "code",
      "execution_count": 4,
      "metadata": {
        "colab": {
          "base_uri": "https://localhost:8080/"
        },
        "id": "RtzYXR9Hy6IF",
        "outputId": "82a00cd2-2ef2-452e-b47d-e7364a6e4d44"
      },
      "outputs": [
        {
          "output_type": "stream",
          "name": "stdout",
          "text": [
            "Drive already mounted at /content/drive; to attempt to forcibly remount, call drive.mount(\"/content/drive\", force_remount=True).\n"
          ]
        }
      ],
      "source": [
        "from google.colab import drive\n",
        "drive.mount('/content/drive')"
      ]
    },
    {
      "cell_type": "code",
      "source": [
        "import pandas as pd\n",
        "import numpy as np\n",
        "from sklearn.model_selection import train_test_split, cross_val_score\n",
        "import xgboost as xgb\n",
        "from sklearn.preprocessing import StandardScaler\n",
        "from hyperopt import hp, fmin, tpe, STATUS_OK, Trials, space_eval\n",
        "from typing import List #for type hinting"
      ],
      "metadata": {
        "id": "gDuDkhN7y9mm"
      },
      "execution_count": 77,
      "outputs": []
    },
    {
      "cell_type": "code",
      "source": [
        "\n",
        "cols = [    \n",
        "  'class_label', 'lepton_pt', 'lepton_eta', 'lepton_phi', 'missing_energy_magnitude',\n",
        "  'missing_energy_phi', 'jet_1_pt', 'jet_1_eta', 'jet_1_phi', 'jet_1_b-tag',\n",
        "  'jet_2_pt', 'jet_2_eta', 'jet_2_phi', 'jet_2_b-tag', 'jet_3_pt',\n",
        "  'jet_3_eta', 'jet_3_phi', 'jet_3_b-tag', 'jet_4_pt', 'jet_4_eta',\n",
        "  'jet_4_phi', 'jet_4_b-tag', 'm_jj', 'm_jjj', 'm_lv', 'm_jlv',\n",
        "  'm_bb', 'm_wbb', 'm_wwbb'\n",
        "] \n",
        "filename = \"./drive/MyDrive/HIGGS_train.csv\"\n",
        "\n",
        "df = pd.read_csv(filename, header=None, names=cols)\n",
        "for col in df.columns:\n",
        "    df[col] = pd.to_numeric(df[col], errors='coerce')\n",
        "df.isnull().sum()\n",
        "#remove rows with missing values\n",
        "df.dropna(inplace=True)"
      ],
      "metadata": {
        "colab": {
          "base_uri": "https://localhost:8080/"
        },
        "id": "KBDivoD1zpTM",
        "outputId": "4795bd96-2c69-4a7f-c48d-b44692e062c3"
      },
      "execution_count": 12,
      "outputs": [
        {
          "output_type": "stream",
          "name": "stderr",
          "text": [
            "<ipython-input-12-af82a97d6a0b>:11: DtypeWarning: Columns (8,21) have mixed types. Specify dtype option on import or set low_memory=False.\n",
            "  df = pd.read_csv(filename, header=None, names=cols)\n"
          ]
        }
      ]
    },
    {
      "cell_type": "code",
      "source": [
        "scaler = StandardScaler()\n",
        "    \n",
        "cols_to_scale = df.columns[1:]\n",
        "\n",
        "scaler.fit(df[cols_to_scale])\n",
        "\n",
        "df[cols_to_scale] = scaler.transform(df[cols_to_scale])\n",
        "\n",
        "X = df.iloc[:, 1:].values \n",
        "y = df.iloc[:, 0].values\n",
        "X_train, X_test, y_train, y_test = train_test_split(X, y, test_size=0.3, random_state=0)        \n",
        "X_test, X_val, y_test, y_val = train_test_split(X, y, test_size=0.5, random_state=0) \n",
        "\n",
        "train_matrix = xgb.DMatrix(X_train, label=y_train)\n",
        "val_matrix = xgb.DMatrix(X_val, label=y_val)\n",
        "test_matrix = xgb.DMatrix(X_test, y_test)"
      ],
      "metadata": {
        "id": "At-he60lzww6"
      },
      "execution_count": 110,
      "outputs": []
    },
    {
      "cell_type": "code",
      "source": [
        "params = {\n",
        "  'learning_rate': hp.choice('learning_rate', [0.01, 0.1, 0.15, 0.2, 0.3]),\n",
        "  'max_depth' : hp.choice('max_depth', range(3,15,3)),\n",
        "  'gamma' : hp.choice('gamma', [i/10.0 for i in range(0,5)]),\n",
        "  'colsample_bytree' : hp.choice('colsample_bytree', [i/10.0 for i in range(3,10)]),     \n",
        "  'reg_alpha' : hp.choice('reg_alpha', [1e-5, 1e-2, 0.1, 1, 10, 100]), \n",
        "  'reg_lambda' : hp.choice('reg_lambda', [1e-5, 1e-2, 0.1, 1, 10, 100]),\n",
        "  'min_child_weight' : hp.choice('min_child_weight', [1, 3, 5, 7, 9]),\n",
        "  'subsample' : hp.choice('subsample', [i/10.0 for i in range(3,10)]),\n",
        "  'objective' : 'binary:logistic',\n",
        "  'tree_method' : 'gpu_hist',\n",
        "}"
      ],
      "metadata": {
        "id": "gXW3O_1Y1X5z"
      },
      "execution_count": 72,
      "outputs": []
    },
    {
      "cell_type": "code",
      "source": [
        "def objective(params):\n",
        "  clf = xgb.train(params=params, dtrain=train_matrix, num_boost_round=100)\n",
        "  \n",
        "  y_pred = clf.predict(val_matrix)\n",
        "  y_pred_labels = np.array([1 if p > 0.5 else 0 for p in y_pred])\n",
        "\n",
        "  acc = np.mean(y_pred_labels == y_val)\n",
        "  # dictionary with information for evaluation\n",
        "  return {'loss': -acc, 'params': params, 'status': STATUS_OK}"
      ],
      "metadata": {
        "id": "bXlFeip98Q7A"
      },
      "execution_count": 73,
      "outputs": []
    },
    {
      "cell_type": "code",
      "source": [
        "trials = Trials()\n",
        "best = fmin(fn = objective, space = params, algo = tpe.suggest, max_evals = 300, trials = trials)"
      ],
      "metadata": {
        "colab": {
          "base_uri": "https://localhost:8080/"
        },
        "id": "7RgezRI29IgP",
        "outputId": "0bbb0b36-4784-4149-e3b9-017d1653d3ba"
      },
      "execution_count": 74,
      "outputs": [
        {
          "output_type": "stream",
          "name": "stdout",
          "text": [
            "100%|██████████| 300/300 [23:53<00:00,  4.78s/trial, best loss: -0.8236721578143854]\n"
          ]
        }
      ]
    },
    {
      "cell_type": "code",
      "source": [
        "print(best)"
      ],
      "metadata": {
        "colab": {
          "base_uri": "https://localhost:8080/"
        },
        "id": "vAMWzpBgFjUh",
        "outputId": "019f1578-78cf-4862-a7ea-153c22ce60f4"
      },
      "execution_count": 75,
      "outputs": [
        {
          "output_type": "stream",
          "name": "stdout",
          "text": [
            "{'colsample_bytree': 4, 'gamma': 1, 'learning_rate': 4, 'max_depth': 3, 'min_child_weight': 0, 'reg_alpha': 2, 'reg_lambda': 0, 'subsample': 6}\n"
          ]
        }
      ]
    },
    {
      "cell_type": "code",
      "source": [
        "best_params = space_eval(params, best)"
      ],
      "metadata": {
        "id": "oPXz8xgaTsHG"
      },
      "execution_count": 111,
      "outputs": []
    },
    {
      "cell_type": "code",
      "source": [
        "xgb_best =  xgb.train(params=best_params, dtrain=train_matrix, num_boost_round=100)"
      ],
      "metadata": {
        "id": "S6yrGQMWTvKI"
      },
      "execution_count": 112,
      "outputs": []
    },
    {
      "cell_type": "code",
      "source": [
        "print(f'train acc: {np.mean(np.array([1 if p > 0.5 else 0 for p in xgb_best.predict(train_matrix)]) == y_train)}')\n",
        "print(f'val acc: {np.mean(np.array([1 if p > 0.5 else 0 for p in xgb_best.predict(val_matrix)]) == y_val)}') \n",
        "print(f'test acc: {np.mean(np.array([1 if p > 0.5 else 0 for p in xgb_best.predict(test_matrix)])  == y_test)}')"
      ],
      "metadata": {
        "colab": {
          "base_uri": "https://localhost:8080/"
        },
        "id": "cBoAEtI5UfSW",
        "outputId": "95892fb5-ea82-4909-965b-1ef65e79c73d"
      },
      "execution_count": 115,
      "outputs": [
        {
          "output_type": "stream",
          "name": "stdout",
          "text": [
            "train acc: 0.9713783669883357\n",
            "val acc: 0.8236721578143854\n",
            "test acc: 0.9711564743764959\n"
          ]
        }
      ]
    },
    {
      "cell_type": "code",
      "source": [
        "xgb_best.save_model('xgb_model.bin')"
      ],
      "metadata": {
        "id": "G4TRi2F0Z4Ad"
      },
      "execution_count": 116,
      "outputs": []
    },
    {
      "cell_type": "code",
      "source": [
        "from google.colab import files\n",
        "files.download('xgb_model.bin')"
      ],
      "metadata": {
        "colab": {
          "base_uri": "https://localhost:8080/",
          "height": 17
        },
        "id": "79gexVjJaIr5",
        "outputId": "e829e806-0d15-4725-83b8-5014eab85dca"
      },
      "execution_count": 117,
      "outputs": [
        {
          "output_type": "display_data",
          "data": {
            "text/plain": [
              "<IPython.core.display.Javascript object>"
            ],
            "application/javascript": [
              "\n",
              "    async function download(id, filename, size) {\n",
              "      if (!google.colab.kernel.accessAllowed) {\n",
              "        return;\n",
              "      }\n",
              "      const div = document.createElement('div');\n",
              "      const label = document.createElement('label');\n",
              "      label.textContent = `Downloading \"${filename}\": `;\n",
              "      div.appendChild(label);\n",
              "      const progress = document.createElement('progress');\n",
              "      progress.max = size;\n",
              "      div.appendChild(progress);\n",
              "      document.body.appendChild(div);\n",
              "\n",
              "      const buffers = [];\n",
              "      let downloaded = 0;\n",
              "\n",
              "      const channel = await google.colab.kernel.comms.open(id);\n",
              "      // Send a message to notify the kernel that we're ready.\n",
              "      channel.send({})\n",
              "\n",
              "      for await (const message of channel.messages) {\n",
              "        // Send a message to notify the kernel that we're ready.\n",
              "        channel.send({})\n",
              "        if (message.buffers) {\n",
              "          for (const buffer of message.buffers) {\n",
              "            buffers.push(buffer);\n",
              "            downloaded += buffer.byteLength;\n",
              "            progress.value = downloaded;\n",
              "          }\n",
              "        }\n",
              "      }\n",
              "      const blob = new Blob(buffers, {type: 'application/binary'});\n",
              "      const a = document.createElement('a');\n",
              "      a.href = window.URL.createObjectURL(blob);\n",
              "      a.download = filename;\n",
              "      div.appendChild(a);\n",
              "      a.click();\n",
              "      div.remove();\n",
              "    }\n",
              "  "
            ]
          },
          "metadata": {}
        },
        {
          "output_type": "display_data",
          "data": {
            "text/plain": [
              "<IPython.core.display.Javascript object>"
            ],
            "application/javascript": [
              "download(\"download_901927ff-7802-4abd-ab23-401ea805353b\", \"xgb_model.bin\", 11152593)"
            ]
          },
          "metadata": {}
        }
      ]
    },
    {
      "cell_type": "markdown",
      "source": [],
      "metadata": {
        "id": "8iW8DHj4Wj9x"
      }
    }
  ]
}